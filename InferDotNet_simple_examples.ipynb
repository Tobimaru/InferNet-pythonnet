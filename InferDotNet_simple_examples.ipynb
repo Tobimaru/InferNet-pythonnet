{
 "cells": [
  {
   "cell_type": "code",
   "execution_count": 1,
   "metadata": {},
   "outputs": [],
   "source": [
    "import sys\n",
    "sys.path.append(r'../dotNet/libs')\n",
    "\n",
    "import clr\n",
    "clr.AddReference(\"Microsoft.ML.Probabilistic\")\n",
    "clr.AddReference(\"Microsoft.ML.Probabilistic.Compiler\")\n",
    "clr.AddReference(\"Microsoft.ML.Probabilistic.Learners\")\n",
    "\n",
    "from System import Array, Double, Type"
   ]
  },
  {
   "cell_type": "code",
   "execution_count": 2,
   "metadata": {},
   "outputs": [],
   "source": [
    "from Microsoft.ML.Probabilistic.Models import Variable, VariableArray, Range, InferenceEngine\n",
    "from Microsoft.ML.Probabilistic.Algorithms import VariationalMessagePassing\n",
    "from Microsoft.ML.Probabilistic.Distributions import Gaussian, Gamma"
   ]
  },
  {
   "cell_type": "markdown",
   "metadata": {},
   "source": [
    "### Example 1: coin toss\n",
    "\n",
    "This is the implementation of https://dotnet.github.io/infer/userguide/a%20simple%20example.html"
   ]
  },
  {
   "cell_type": "code",
   "execution_count": 3,
   "metadata": {},
   "outputs": [],
   "source": [
    "firstCoin = Variable.Bernoulli(Double(0.5))\n",
    "secondCoin = Variable.Bernoulli(Double(0.5))\n",
    "bothHeads = firstCoin.op_BitwiseAnd(firstCoin, secondCoin)"
   ]
  },
  {
   "cell_type": "code",
   "execution_count": 4,
   "metadata": {},
   "outputs": [
    {
     "name": "stdout",
     "output_type": "stream",
     "text": [
      "Probability distribution both coins are heads: Bernoulli(0.25)\n",
      "Probability distribution over firstCoin: Bernoulli(0.3333)\n"
     ]
    }
   ],
   "source": [
    "engine = InferenceEngine()\n",
    "# This should give 'Bernoulli(0.25)' since probability\n",
    "# that a coin toss will give heads for both coins equals to 0.5 * 0.5 == 0.25\n",
    "print(f'Probability distribution both coins are heads: {engine.Infer(bothHeads)}');\n",
    "# Now we observe a coin toss with observed value for both heads == false\n",
    "bothHeads.ObservedValue = False;  \n",
    "# Probability that the first coin is head == 1/3, since\n",
    "# there are only 3 events possible without both coins giving heads\n",
    "print(f'Probability distribution over firstCoin: {engine.Infer(firstCoin)}');"
   ]
  },
  {
   "cell_type": "markdown",
   "metadata": {},
   "source": [
    "### Example 2: Inference on Gaussian with priors\n",
    "\n",
    "This is the implementation of https://dotnet.github.io/infer/userguide/Running%20inference.html\n",
    "\n",
    "**Note**: as mentioned in the README, we can't call `Variable.Observed` as in the C# code. Another issue encountered is the usage of the `[]` indexer, which doesn't seem to be correctly resolved by python.net. The code below is a workaround that initializes the `VariableArray` differently.  "
   ]
  },
  {
   "cell_type": "code",
   "execution_count": 5,
   "metadata": {},
   "outputs": [],
   "source": [
    "mean_point = 0.0\n",
    "precision_point = 1.0\n",
    "# define the priors for the mean and precision of the Gaussian\n",
    "mean = Variable.GaussianFromMeanAndVariance(mean_point, 100.0)\n",
    "precision = Variable.GammaFromShapeAndScale(precision_point, 1.0)\n",
    "\n",
    "# define observed values as drawn from a Gaussian(mean, precision)\n",
    "i = Range(4)\n",
    "data = Variable.Array[Double](i)\n",
    "data.set_Item(i, Variable.GaussianFromMeanAndPrecision(mean, precision).ForEach(i))\n",
    "data.set_ObservedValue(Array[Double]([11.0, 5.0, 8.0, 9.0]))"
   ]
  },
  {
   "cell_type": "code",
   "execution_count": 6,
   "metadata": {},
   "outputs": [
    {
     "name": "stdout",
     "output_type": "stream",
     "text": [
      "mean = Gaussian(8.165, 1.026)\n",
      "precision = Gamma(3, 0.08038)[mean=0.2411]\n"
     ]
    }
   ],
   "source": [
    "# run inference\n",
    "engine = InferenceEngine(VariationalMessagePassing()) \n",
    "\n",
    "# get the posterior distributions\n",
    "posteriorMean = engine.Infer[Gaussian](mean)  \n",
    "posteriorPrecision = engine.Infer[Gamma](precision)  \n",
    "\n",
    "# This should show the following output:\n",
    "# mean = Gaussian(8.165, 1.026)\n",
    "# precision = Gamma(3, 0.08038)[mean=0.2411]\n",
    "print(f'mean = {posteriorMean}')  \n",
    "print(f'precision = {posteriorPrecision}')"
   ]
  },
  {
   "cell_type": "markdown",
   "metadata": {},
   "source": [
    "If we sample observations from the mean prior Gaussian with increasing number of samples, we should see the posterior marginals converge to the distributions centered around the mean values with decreasing variance."
   ]
  },
  {
   "cell_type": "code",
   "execution_count": 7,
   "metadata": {},
   "outputs": [],
   "source": [
    "def observations_Gaussian(mean, precision,\n",
    "                          mean_dist, precision_dist, nb_samples):\n",
    "    i = Range(nb_samples)\n",
    "    data = Variable.Array[Double](i)\n",
    "    data.set_Item(i, \n",
    "        Variable.GaussianFromMeanAndPrecision(mean_dist, precision_dist).ForEach(i))\n",
    "    data.set_ObservedValue(Array[Double](\n",
    "        [Gaussian.Sample(mean, precision) for _ in range(nb_samples)]))\n",
    "    \n",
    "    return data"
   ]
  },
  {
   "cell_type": "code",
   "execution_count": 8,
   "metadata": {},
   "outputs": [
    {
     "name": "stdout",
     "output_type": "stream",
     "text": [
      "number of samples: 5\n",
      "mean = Gaussian(-0.1316, 0.1651)\n",
      "precision = Gamma(3.5, 0.3456)[mean=1.21]\n",
      "number of samples: 10\n",
      "mean = Gaussian(-0.08821, 0.04277)\n",
      "precision = Gamma(6, 0.3895)[mean=2.337]\n",
      "number of samples: 20\n",
      "mean = Gaussian(0.2009, 0.08888)\n",
      "precision = Gamma(11, 0.05109)[mean=0.562]\n",
      "number of samples: 40\n",
      "mean = Gaussian(0.05247, 0.02275)\n",
      "precision = Gamma(21, 0.05232)[mean=1.099]\n",
      "number of samples: 80\n",
      "mean = Gaussian(-0.05073, 0.01625)\n",
      "precision = Gamma(41, 0.01876)[mean=0.7691]\n",
      "number of samples: 160\n",
      "mean = Gaussian(-0.05915, 0.006072)\n",
      "precision = Gamma(81, 0.01271)[mean=1.029]\n",
      "number of samples: 320\n",
      "mean = Gaussian(0.1047, 0.002724)\n",
      "precision = Gamma(161, 0.007125)[mean=1.147]\n",
      "number of samples: 640\n",
      "mean = Gaussian(-0.01588, 0.001604)\n",
      "precision = Gamma(321, 0.003034)[mean=0.974]\n",
      "number of samples: 1280\n",
      "mean = Gaussian(-0.002367, 0.0008159)\n",
      "precision = Gamma(641, 0.001494)[mean=0.9575]\n",
      "number of samples: 2560\n",
      "mean = Gaussian(0.01041, 0.0003936)\n",
      "precision = Gamma(1281, 0.0007747)[mean=0.9924]\n",
      "number of samples: 5120\n",
      "mean = Gaussian(-0.01186, 0.0001923)\n",
      "precision = Gamma(2561, 0.0003966)[mean=1.016]\n",
      "number of samples: 10240\n",
      "mean = Gaussian(0.002275, 9.465e-05)\n",
      "precision = Gamma(5121, 0.0002015)[mean=1.032]\n",
      "number of samples: 20480\n",
      "mean = Gaussian(0.003547, 4.897e-05)\n",
      "precision = Gamma(1.024e+04, 9.736e-05)[mean=0.997]\n",
      "number of samples: 40960\n",
      "mean = Gaussian(0.004218, 2.436e-05)\n",
      "precision = Gamma(2.048e+04, 4.894e-05)[mean=1.002]\n",
      "number of samples: 81920\n",
      "mean = Gaussian(-4.802e-05, 1.214e-05)\n",
      "precision = Gamma(4.096e+04, 2.455e-05)[mean=1.005]\n"
     ]
    }
   ],
   "source": [
    "engine = InferenceEngine(VariationalMessagePassing()) \n",
    "\n",
    "for count in range(15):\n",
    "    nb_samples = 5 * 2**count \n",
    "    \n",
    "    # reset the priors\n",
    "    mean = Variable.GaussianFromMeanAndVariance(mean_point, 100.0)\n",
    "    precision = Variable.GammaFromShapeAndScale(precision_point, 1.0)\n",
    "    \n",
    "    data = observations_Gaussian(mean_point, precision_point,\n",
    "                                 mean, precision, nb_samples)\n",
    "\n",
    "    print(f'number of samples: {nb_samples}')\n",
    "    print(f'mean = {engine.Infer[Gaussian](mean)}')  \n",
    "    print(f'precision = {engine.Infer[Gamma](precision)}')"
   ]
  },
  {
   "cell_type": "markdown",
   "metadata": {},
   "source": [
    "If we sample observations from a Gaussian with different parameters than the mean values of the priors, the posterior marginals will now converge to distributions that are centered around different values."
   ]
  },
  {
   "cell_type": "code",
   "execution_count": 9,
   "metadata": {},
   "outputs": [
    {
     "name": "stdout",
     "output_type": "stream",
     "text": [
      "number of samples: 5\n",
      "mean = Gaussian(-1.825, 0.08638)\n",
      "precision = Gamma(3.5, 0.661)[mean=2.313]\n",
      "number of samples: 10\n",
      "mean = Gaussian(-1.95, 0.02001)\n",
      "precision = Gamma(6, 0.8326)[mean=4.995]\n",
      "number of samples: 20\n",
      "mean = Gaussian(-1.968, 0.01896)\n",
      "precision = Gamma(11, 0.2397)[mean=2.637]\n",
      "number of samples: 40\n",
      "mean = Gaussian(-1.988, 0.006959)\n",
      "precision = Gamma(21, 0.171)[mean=3.592]\n",
      "number of samples: 80\n",
      "mean = Gaussian(-2.035, 0.003839)\n",
      "precision = Gamma(41, 0.07942)[mean=3.256]\n",
      "number of samples: 160\n",
      "mean = Gaussian(-2.024, 0.00157)\n",
      "precision = Gamma(81, 0.04916)[mean=3.982]\n",
      "number of samples: 320\n",
      "mean = Gaussian(-1.97, 0.0008799)\n",
      "precision = Gamma(161, 0.02206)[mean=3.552]\n",
      "number of samples: 640\n",
      "mean = Gaussian(-2.003, 0.0004106)\n",
      "precision = Gamma(321, 0.01185)[mean=3.805]\n",
      "number of samples: 1280\n",
      "mean = Gaussian(-2.005, 0.0002031)\n",
      "precision = Gamma(641, 0.006001)[mean=3.846]\n",
      "number of samples: 2560\n",
      "mean = Gaussian(-2, 9.658e-05)\n",
      "precision = Gamma(1281, 0.003157)[mean=4.045]\n",
      "number of samples: 5120\n",
      "mean = Gaussian(-1.999, 4.961e-05)\n",
      "precision = Gamma(2561, 0.001537)[mean=3.937]\n",
      "number of samples: 10240\n",
      "mean = Gaussian(-1.994, 2.452e-05)\n",
      "precision = Gamma(5121, 0.0007776)[mean=3.982]\n",
      "number of samples: 20480\n",
      "mean = Gaussian(-1.998, 1.237e-05)\n",
      "precision = Gamma(1.024e+04, 0.0003856)[mean=3.949]\n",
      "number of samples: 40960\n",
      "mean = Gaussian(-1.997, 6.11e-06)\n",
      "precision = Gamma(2.048e+04, 0.0001951)[mean=3.996]\n",
      "number of samples: 81920\n",
      "mean = Gaussian(-1.999, 3.048e-06)\n",
      "precision = Gamma(4.096e+04, 9.777e-05)[mean=4.005]\n"
     ]
    }
   ],
   "source": [
    "for count in range(15):\n",
    "    nb_samples = 5 * 2**count \n",
    "    \n",
    "    # reset the priors\n",
    "    mean = Variable.GaussianFromMeanAndVariance(mean_point, 100.0)\n",
    "    precision = Variable.GammaFromShapeAndScale(precision_point, 1.0)\n",
    "    \n",
    "    data = observations_Gaussian(-2.0, 4.0,\n",
    "                                 mean, precision, nb_samples)\n",
    "\n",
    "    print(f'number of samples: {nb_samples}')\n",
    "    print(f'mean = {engine.Infer[Gaussian](mean)}')  \n",
    "    print(f'precision = {engine.Infer[Gamma](precision)}')"
   ]
  },
  {
   "cell_type": "code",
   "execution_count": null,
   "metadata": {},
   "outputs": [],
   "source": []
  }
 ],
 "metadata": {
  "kernelspec": {
   "display_name": "Python 3",
   "language": "python",
   "name": "python3"
  },
  "language_info": {
   "codemirror_mode": {
    "name": "ipython",
    "version": 3
   },
   "file_extension": ".py",
   "mimetype": "text/x-python",
   "name": "python",
   "nbconvert_exporter": "python",
   "pygments_lexer": "ipython3",
   "version": "3.6.7"
  }
 },
 "nbformat": 4,
 "nbformat_minor": 2
}
