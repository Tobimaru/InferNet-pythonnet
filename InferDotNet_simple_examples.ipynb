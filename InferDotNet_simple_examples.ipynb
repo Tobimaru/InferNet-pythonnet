{
 "cells": [
  {
   "cell_type": "code",
   "execution_count": 1,
   "metadata": {},
   "outputs": [],
   "source": [
    "import sys\n",
    "sys.path.append(r'../dotNet/libs')\n",
    "\n",
    "import clr\n",
    "clr.AddReference(\"Microsoft.ML.Probabilistic\")\n",
    "clr.AddReference(\"Microsoft.ML.Probabilistic.Compiler\")\n",
    "clr.AddReference(\"Microsoft.ML.Probabilistic.Learners\")\n",
    "\n",
    "from System import Array, Double, Type"
   ]
  },
  {
   "cell_type": "code",
   "execution_count": 2,
   "metadata": {},
   "outputs": [],
   "source": [
    "from Microsoft.ML.Probabilistic.Models import Variable, VariableArray, Range, InferenceEngine\n",
    "from Microsoft.ML.Probabilistic.Algorithms import VariationalMessagePassing\n",
    "from Microsoft.ML.Probabilistic.Distributions import Gaussian, Gamma"
   ]
  },
  {
   "cell_type": "markdown",
   "metadata": {},
   "source": [
    "### Example 1: coin toss\n",
    "\n",
    "This is the implementation of https://dotnet.github.io/infer/userguide/a%20simple%20example.html"
   ]
  },
  {
   "cell_type": "code",
   "execution_count": 3,
   "metadata": {},
   "outputs": [],
   "source": [
    "firstCoin = Variable.Bernoulli(Double(0.5))\n",
    "secondCoin = Variable.Bernoulli(Double(0.5))\n",
    "bothHeads = firstCoin.op_BitwiseAnd(firstCoin, secondCoin)"
   ]
  },
  {
   "cell_type": "code",
   "execution_count": 4,
   "metadata": {},
   "outputs": [
    {
     "name": "stdout",
     "output_type": "stream",
     "text": [
      "Probability distribution both coins are heads: Bernoulli(0.25)\n",
      "Probability distribution over firstCoin: Bernoulli(0.3333)\n"
     ]
    }
   ],
   "source": [
    "engine = InferenceEngine()\n",
    "# This should give 'Bernoulli(0.25)' since probability\n",
    "# that a coin toss will give heads for both coins equals to 0.5 * 0.5 == 0.25\n",
    "print(f'Probability distribution both coins are heads: {engine.Infer(bothHeads)}');\n",
    "# Now we observe a coin toss with observed value for both heads == false\n",
    "bothHeads.ObservedValue = False;  \n",
    "# Probability that the first coin is head == 1/3, since\n",
    "# there are only 3 events possible without both coins giving heads\n",
    "print(f'Probability distribution over firstCoin: {engine.Infer(firstCoin)}');"
   ]
  },
  {
   "cell_type": "markdown",
   "metadata": {},
   "source": [
    "### Example 2: Inference on Gaussian with priors\n",
    "\n",
    "This is the implementation of https://dotnet.github.io/infer/userguide/Running%20inference.html\n",
    "\n",
    "**Note**: as mentioned in the README, we can't call `Variable.Observed` as in the C# code. Another issue encountered is the usage of the `[]` indexer, which doesn't seem to be correctly resolved by python.net. The code below is a workaround that initializes the `VariableArray` differently.  "
   ]
  },
  {
   "cell_type": "code",
   "execution_count": 5,
   "metadata": {},
   "outputs": [],
   "source": [
    "# define the priors for the mean and precision of the Gaussian\n",
    "mean = Variable.GaussianFromMeanAndVariance(0.0, 100.0)\n",
    "precision = Variable.GammaFromShapeAndScale(1.0, 1.0)\n",
    "\n",
    "# define observed values as drawn from a Gaussian(mean, precision)\n",
    "i = Range(4)\n",
    "data = Variable.Array[Double](i)\n",
    "data.set_Item(i, Variable.GaussianFromMeanAndPrecision(mean, precision).ForEach(i))\n",
    "data.set_ObservedValue(Array[Double]([11.0, 5.0, 8.0, 9.0]))"
   ]
  },
  {
   "cell_type": "code",
   "execution_count": 6,
   "metadata": {},
   "outputs": [
    {
     "name": "stdout",
     "output_type": "stream",
     "text": [
      "mean = Gaussian(8.165, 1.026)\n",
      "precision = Gamma(3, 0.08038)[mean=0.2411]\n"
     ]
    }
   ],
   "source": [
    "# run inference\n",
    "engine = InferenceEngine(VariationalMessagePassing()); \n",
    "\n",
    "# get the posterior distributions\n",
    "posteriorMean = engine.Infer[Gaussian](mean);  \n",
    "posteriorPrecision = engine.Infer[Gamma](precision);  \n",
    "\n",
    "# This should show the following output:\n",
    "# mean = Gaussian(8.165, 1.026)\n",
    "# precision = Gamma(3, 0.08038)[mean=0.2411]\n",
    "print(f'mean = {posteriorMean}');  \n",
    "print(f'precision = {posteriorPrecision}');"
   ]
  },
  {
   "cell_type": "code",
   "execution_count": null,
   "metadata": {},
   "outputs": [],
   "source": []
  }
 ],
 "metadata": {
  "kernelspec": {
   "display_name": "Python 3",
   "language": "python",
   "name": "python3"
  },
  "language_info": {
   "codemirror_mode": {
    "name": "ipython",
    "version": 3
   },
   "file_extension": ".py",
   "mimetype": "text/x-python",
   "name": "python",
   "nbconvert_exporter": "python",
   "pygments_lexer": "ipython3",
   "version": "3.6.7"
  }
 },
 "nbformat": 4,
 "nbformat_minor": 2
}
