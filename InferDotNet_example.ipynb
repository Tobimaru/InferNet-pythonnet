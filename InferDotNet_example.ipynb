{
 "cells": [
  {
   "cell_type": "code",
   "execution_count": 1,
   "metadata": {},
   "outputs": [],
   "source": [
    "import sys\n",
    "sys.path.append(r'../dotNet/libs')\n",
    "\n",
    "import clr\n",
    "clr.AddReference(\"Microsoft.ML.Probabilistic\")\n",
    "clr.AddReference(\"Microsoft.ML.Probabilistic.Compiler\")\n",
    "clr.AddReference(\"Microsoft.ML.Probabilistic.Learners\")\n",
    "\n",
    "from System import Array, Double, Console"
   ]
  },
  {
   "cell_type": "code",
   "execution_count": 2,
   "metadata": {},
   "outputs": [],
   "source": [
    "from Microsoft.ML.Probabilistic.Models import Variable, VariableArray, Range, InferenceEngine"
   ]
  },
  {
   "cell_type": "markdown",
   "metadata": {},
   "source": [
    "### Example that works\n",
    "\n",
    "This is the implementation of https://dotnet.github.io/infer/userguide/a%20simple%20example.html"
   ]
  },
  {
   "cell_type": "code",
   "execution_count": 3,
   "metadata": {},
   "outputs": [],
   "source": [
    "firstCoin = Variable.Bernoulli(Double(0.5))\n",
    "secondCoin = Variable.Bernoulli(Double(0.5))\n",
    "bothHeads = firstCoin.op_BitwiseAnd(firstCoin, secondCoin)"
   ]
  },
  {
   "cell_type": "code",
   "execution_count": 4,
   "metadata": {},
   "outputs": [],
   "source": [
    "engine = InferenceEngine()\n",
    "# This should give 'Bernoulli(0.25)' since probability\n",
    "# that a coin toss will give heads for both coins equals to 0.5 * 0.5 == 0.25\n",
    "Console.WriteLine(f'Probability distribution both coins are heads: {engine.Infer(bothHeads)}');\n",
    "# Now we observe a coin toss with observed value for both heads == false\n",
    "bothHeads.ObservedValue = False;  \n",
    "# Probability that the first coin is head == 1/3, since\n",
    "# there are only 3 events possible without both coins giving heads\n",
    "Console.WriteLine(f'Probability distribution over firstCoin: {engine.Infer(firstCoin)}');"
   ]
  },
  {
   "cell_type": "markdown",
   "metadata": {},
   "source": [
    "### Example that doesn't work (yet)\n",
    "\n",
    "Trying to implement https://dotnet.github.io/infer/userguide/Running%20inference.html, but this gives a problem.\n",
    "\n",
    "Unfortunately we cannot call a specific instantiation of generic functions in pythonnet (see https://github.com/pythonnet/pythonnet/issues/641)."
   ]
  },
  {
   "cell_type": "code",
   "execution_count": 5,
   "metadata": {},
   "outputs": [],
   "source": [
    "mean = Variable.GaussianFromMeanAndVariance(0.0, 100.0)\n",
    "precision = Variable.GammaFromShapeAndScale(1.0, 1.0)\n",
    "data = Variable.Observed(Array[Double]([11.0, 5.0, 8.0, 9.0]))"
   ]
  },
  {
   "cell_type": "markdown",
   "metadata": {},
   "source": [
    "`data` should be of type `VariableArray[System.Double]`\n",
    "but we get `Variable[System.Double[]]` instead. Type resolution is ambiguous here."
   ]
  },
  {
   "cell_type": "code",
   "execution_count": 6,
   "metadata": {},
   "outputs": [
    {
     "name": "stdout",
     "output_type": "stream",
     "text": [
      "Microsoft.ML.Probabilistic.Models.Variable`1[System.Double[]]\n"
     ]
    }
   ],
   "source": [
    "print(data.GetType())"
   ]
  },
  {
   "cell_type": "markdown",
   "metadata": {},
   "source": [
    "This can be resolved by specifying the type resolution explicitly on the function. But apparently this is not possible (yet) in pythonnet. The following throws an exception.\n",
    "\n",
    "It seems the problem is that pythonnet cannot resolve overloads for generic methods."
   ]
  },
  {
   "cell_type": "code",
   "execution_count": 7,
   "metadata": {},
   "outputs": [
    {
     "ename": "TypeError",
     "evalue": "No match found for signature",
     "output_type": "error",
     "traceback": [
      "\u001b[0;31m---------------------------------------------------------------------------\u001b[0m",
      "\u001b[0;31mTypeError\u001b[0m                                 Traceback (most recent call last)",
      "\u001b[0;32m<ipython-input-7-203c5ff42eff>\u001b[0m in \u001b[0;36m<module>\u001b[0;34m\u001b[0m\n\u001b[0;32m----> 1\u001b[0;31m \u001b[0mdata\u001b[0m \u001b[0;34m=\u001b[0m \u001b[0mVariable\u001b[0m\u001b[0;34m.\u001b[0m\u001b[0mConstant\u001b[0m\u001b[0;34m.\u001b[0m\u001b[0mOverloads\u001b[0m\u001b[0;34m[\u001b[0m\u001b[0mDouble\u001b[0m\u001b[0;34m]\u001b[0m\u001b[0;34m(\u001b[0m\u001b[0mArray\u001b[0m\u001b[0;34m[\u001b[0m\u001b[0mDouble\u001b[0m\u001b[0;34m]\u001b[0m\u001b[0;34m(\u001b[0m\u001b[0;34m[\u001b[0m\u001b[0;36m11.0\u001b[0m\u001b[0;34m,\u001b[0m \u001b[0;36m5.0\u001b[0m\u001b[0;34m,\u001b[0m \u001b[0;36m8.0\u001b[0m\u001b[0;34m,\u001b[0m \u001b[0;36m9.0\u001b[0m\u001b[0;34m]\u001b[0m\u001b[0;34m)\u001b[0m\u001b[0;34m)\u001b[0m\u001b[0;34m\u001b[0m\u001b[0;34m\u001b[0m\u001b[0m\n\u001b[0m",
      "\u001b[0;31mTypeError\u001b[0m: No match found for signature"
     ]
    }
   ],
   "source": [
    "data = Variable.Constant.Overloads[Double](Array[Double]([11.0, 5.0, 8.0, 9.0]))"
   ]
  },
  {
   "cell_type": "code",
   "execution_count": null,
   "metadata": {},
   "outputs": [],
   "source": []
  }
 ],
 "metadata": {
  "kernelspec": {
   "display_name": "Python 3",
   "language": "python",
   "name": "python3"
  },
  "language_info": {
   "codemirror_mode": {
    "name": "ipython",
    "version": 3
   },
   "file_extension": ".py",
   "mimetype": "text/x-python",
   "name": "python",
   "nbconvert_exporter": "python",
   "pygments_lexer": "ipython3",
   "version": "3.6.7"
  }
 },
 "nbformat": 4,
 "nbformat_minor": 2
}
